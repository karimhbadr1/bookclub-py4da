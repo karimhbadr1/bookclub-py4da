{
 "cells": [
  {
   "cell_type": "markdown",
   "metadata": {},
   "source": [
    "# Chapter 1 : Preliminaries"
   ]
  },
  {
   "cell_type": "code",
   "execution_count": 1,
   "metadata": {},
   "outputs": [],
   "source": [
    "import numpy as np\n",
    "import pandas as pd\n",
    "pd.options.display.max_columns = 20\n",
    "pd.options.display.max_rows = 20\n",
    "pd.options.display.max_colwidth = 80\n",
    "np.set_printoptions(precision=4, suppress=True)"
   ]
  },
  {
   "cell_type": "code",
   "execution_count": 2,
   "metadata": {},
   "outputs": [
    {
     "data": {
      "text/plain": [
       "'c:\\\\Users\\\\Karim.Badr\\\\OneDrive - 365shl\\\\Documents\\\\GitHub\\\\bookclub-py4da\\\\Karim'"
      ]
     },
     "execution_count": 2,
     "metadata": {},
     "output_type": "execute_result"
    }
   ],
   "source": [
    "pwd"
   ]
  },
  {
   "cell_type": "code",
   "execution_count": 3,
   "metadata": {},
   "outputs": [
    {
     "name": "stdout",
     "output_type": "stream",
     "text": [
      " Volume in drive C is Windows\n",
      " Volume Serial Number is D25F-5DDC\n",
      "\n",
      " Directory of c:\\Users\\Karim.Badr\\OneDrive - 365shl\\Documents\\GitHub\\bookclub-py4da\\Karim\n",
      "\n",
      "10/01/2022  10:27 PM    <DIR>          .\n",
      "09/30/2022  09:52 AM    <DIR>          ..\n",
      "09/30/2022  09:47 AM                11 .gitignore\n",
      "09/30/2022  09:47 AM    <DIR>          .ipynb_checkpoints\n",
      "09/30/2022  09:47 AM    <DIR>          __pycache__\n",
      "09/30/2022  09:47 AM    <DIR>          _freeze\n",
      "09/30/2022  09:47 AM               554 _quarto1.yml\n",
      "09/30/2022  09:47 AM               594 array_archive.npz\n",
      "09/30/2022  09:47 AM               424 arrays_compressed.npz\n",
      "09/30/2022  09:47 AM             1,027 Chapter 5.ipynb\n",
      "09/30/2022  09:47 AM               206 Chapter 5.qmd\n",
      "09/30/2022  09:47 AM    <DIR>          Chapter 5_files\n",
      "09/30/2022  09:47 AM             2,004 Chapter01.ipynb\n",
      "09/30/2022  09:47 AM           138,731 Chapter02.ipynb\n",
      "09/30/2022  09:47 AM           112,754 Chapter03.ipynb\n",
      "09/30/2022  09:47 AM           267,386 Chapter04.ipynb\n",
      "09/30/2022  09:47 AM           841,984 Chapter06.ipynb\n",
      "10/01/2022  10:27 PM           670,436 Chapter07.html\n",
      "11/10/2022  05:56 PM           146,496 Chapter07.ipynb\n",
      "09/28/2022  03:47 PM             2,207 Chapter07.qmd\n",
      "09/30/2022  09:47 AM           436,005 Chapter5.ipynb\n",
      "09/30/2022  09:47 AM                21 hello_world.py\n",
      "09/30/2022  09:47 AM               943 index.qmd\n",
      "09/30/2022  09:47 AM               208 some_array.npy\n",
      "09/30/2022  09:47 AM                77 some_module.py\n",
      "              19 File(s)      2,622,068 bytes\n",
      "               6 Dir(s)  299,318,849,536 bytes free\n"
     ]
    }
   ],
   "source": [
    "ls"
   ]
  },
  {
   "cell_type": "code",
   "execution_count": 4,
   "metadata": {},
   "outputs": [],
   "source": [
    "import numpy as np\n",
    "import matplotlib.pyplot as plt\n",
    "import pandas as pd\n",
    "import seaborn as sns\n",
    "import statsmodels as sm"
   ]
  }
 ],
 "metadata": {
  "kernelspec": {
   "display_name": "Python 3.10.5",
   "language": "python",
   "name": "python3"
  },
  "language_info": {
   "codemirror_mode": {
    "name": "ipython",
    "version": 3
   },
   "file_extension": ".py",
   "mimetype": "text/x-python",
   "name": "python",
   "nbconvert_exporter": "python",
   "pygments_lexer": "ipython3",
   "version": "3.10.6"
  },
  "orig_nbformat": 4,
  "vscode": {
   "interpreter": {
    "hash": "f8f11f426729b81d554bf60d6473f448702f1010500eb41341bfa025896579d7"
   }
  }
 },
 "nbformat": 4,
 "nbformat_minor": 2
}
